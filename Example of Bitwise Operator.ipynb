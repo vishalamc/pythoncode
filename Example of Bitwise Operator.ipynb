{
 "cells": [
  {
   "cell_type": "code",
   "execution_count": 6,
   "id": "9731c69f",
   "metadata": {},
   "outputs": [
    {
     "name": "stdout",
     "output_type": "stream",
     "text": [
      "Enter first value\n",
      "10\n",
      "Enter second value\n",
      "12\n",
      "Select operation:\n",
      "1.Bitwise And\n",
      "2.Bitwise OR\n",
      "3.Bitwise XOR\n",
      "3\n",
      "6\n"
     ]
    }
   ],
   "source": [
    "value1=int(input(\"Enter first value\\n\"))\n",
    "value2=int(input(\"Enter second value\\n\"))\n",
    "choice=int(input(\"Select operation:\\n1.Bitwise And\\n2.Bitwise OR\\n3.Bitwise XOR\\n\"))\n",
    "if choice==1:\n",
    "    result=(value1&value2)\n",
    "    if result>5:\n",
    "        print(\"Play Song\")\n",
    "    else:\n",
    "        print(\"Play Music\")\n",
    "if choice==2:\n",
    "    result=(value1|value2)\n",
    "    print(result)\n",
    "if choice==3:\n",
    "    result=(value1^value2)\n",
    "    print(result)\n",
    "        "
   ]
  },
  {
   "cell_type": "code",
   "execution_count": null,
   "id": "f39de571",
   "metadata": {},
   "outputs": [],
   "source": []
  }
 ],
 "metadata": {
  "kernelspec": {
   "display_name": "Python 3 (ipykernel)",
   "language": "python",
   "name": "python3"
  },
  "language_info": {
   "codemirror_mode": {
    "name": "ipython",
    "version": 3
   },
   "file_extension": ".py",
   "mimetype": "text/x-python",
   "name": "python",
   "nbconvert_exporter": "python",
   "pygments_lexer": "ipython3",
   "version": "3.9.6"
  }
 },
 "nbformat": 4,
 "nbformat_minor": 5
}

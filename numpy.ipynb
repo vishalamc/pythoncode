{
 "cells": [
  {
   "cell_type": "code",
   "execution_count": 2,
   "id": "816239aa",
   "metadata": {},
   "outputs": [
    {
     "name": "stdout",
     "output_type": "stream",
     "text": [
      "Collecting numpy\n",
      "  Downloading numpy-1.21.2-cp39-cp39-win_amd64.whl (14.0 MB)\n",
      "Installing collected packages: numpy\n",
      "Successfully installed numpy-1.21.2\n"
     ]
    },
    {
     "name": "stderr",
     "output_type": "stream",
     "text": [
      "WARNING: Ignoring invalid distribution -ip (c:\\users\\rockstar\\appdata\\local\\programs\\python\\python39\\lib\\site-packages)\n",
      "WARNING: Ignoring invalid distribution -ip (c:\\users\\rockstar\\appdata\\local\\programs\\python\\python39\\lib\\site-packages)\n",
      "WARNING: Ignoring invalid distribution -ip (c:\\users\\rockstar\\appdata\\local\\programs\\python\\python39\\lib\\site-packages)\n",
      "WARNING: Ignoring invalid distribution -ip (c:\\users\\rockstar\\appdata\\local\\programs\\python\\python39\\lib\\site-packages)\n",
      "WARNING: Ignoring invalid distribution -ip (c:\\users\\rockstar\\appdata\\local\\programs\\python\\python39\\lib\\site-packages)\n",
      "WARNING: Ignoring invalid distribution -ip (c:\\users\\rockstar\\appdata\\local\\programs\\python\\python39\\lib\\site-packages)\n",
      "WARNING: Ignoring invalid distribution -ip (c:\\users\\rockstar\\appdata\\local\\programs\\python\\python39\\lib\\site-packages)\n",
      "WARNING: You are using pip version 21.1.3; however, version 21.2.4 is available.\n",
      "You should consider upgrading via the 'c:\\users\\rockstar\\appdata\\local\\programs\\python\\python39\\python.exe -m pip install --upgrade pip' command.\n"
     ]
    }
   ],
   "source": [
    "!pip install numpy\n"
   ]
  },
  {
   "cell_type": "code",
   "execution_count": 5,
   "id": "e956cace",
   "metadata": {},
   "outputs": [
    {
     "name": "stdout",
     "output_type": "stream",
     "text": [
      "[1 2 3 4 5]\n"
     ]
    }
   ],
   "source": [
    "import numpy as np\n",
    "arr = np.array([1, 2, 3, 4, 5])\n",
    "\n",
    "print(arr)"
   ]
  },
  {
   "cell_type": "code",
   "execution_count": 2,
   "id": "4ac2be4c",
   "metadata": {},
   "outputs": [
    {
     "name": "stdout",
     "output_type": "stream",
     "text": [
      "1.21.2\n"
     ]
    }
   ],
   "source": [
    "import numpy as np\n",
    "print(np.__version__)"
   ]
  },
  {
   "cell_type": "code",
   "execution_count": 3,
   "id": "62b7f831",
   "metadata": {},
   "outputs": [
    {
     "name": "stdout",
     "output_type": "stream",
     "text": [
      "[1 2 3 4 5]\n"
     ]
    }
   ],
   "source": [
    "import numpy as np\n",
    "myarray=np.array([1,2,3,4,5])\n",
    "print(myarray)"
   ]
  },
  {
   "cell_type": "code",
   "execution_count": 4,
   "id": "47365b56",
   "metadata": {},
   "outputs": [
    {
     "name": "stdout",
     "output_type": "stream",
     "text": [
      "[1 2 3 4 5]\n"
     ]
    }
   ],
   "source": [
    "import numpy as np\n",
    "mylist=[1,2,3,4,5]\n",
    "myarray=np.array(mylist)\n",
    "print(myarray)"
   ]
  },
  {
   "cell_type": "code",
   "execution_count": 6,
   "id": "cda29320",
   "metadata": {},
   "outputs": [
    {
     "name": "stdout",
     "output_type": "stream",
     "text": [
      "[1 2 3 4 5]\n"
     ]
    }
   ],
   "source": [
    "import numpy as np\n",
    "myarray=np.array((1,2,3,4,5))\n",
    "print(myarray)"
   ]
  },
  {
   "cell_type": "code",
   "execution_count": 7,
   "id": "74107b6d",
   "metadata": {},
   "outputs": [
    {
     "name": "stdout",
     "output_type": "stream",
     "text": [
      "[1 2 3 4 5]\n"
     ]
    }
   ],
   "source": [
    "import numpy as np\n",
    "mytuple=(1,2,3,4,5)\n",
    "myarray=np.array(mytuple)\n",
    "print(myarray)"
   ]
  },
  {
   "cell_type": "code",
   "execution_count": 10,
   "id": "696d43d2",
   "metadata": {},
   "outputs": [
    {
     "name": "stdout",
     "output_type": "stream",
     "text": [
      "[2 3]\n"
     ]
    }
   ],
   "source": [
    "import numpy as np\n",
    "arr = np.array([1, 2, 3, 4])\n",
    "print(arr[1:3]) \n"
   ]
  },
  {
   "cell_type": "code",
   "execution_count": 2,
   "id": "e05ba736",
   "metadata": {},
   "outputs": [
    {
     "name": "stdout",
     "output_type": "stream",
     "text": [
      "The new created array is :  1 2 3 4 5 "
     ]
    }
   ],
   "source": [
    "# printing original array\n",
    "import numpy as np\n",
    "arr = np.array([1, 2, 3, 4,5])\n",
    "print (\"The new created array is : \",end=\" \")\n",
    "for i in range (0,5):\n",
    "    print (arr[i], end=\" \")\n"
   ]
  },
  {
   "cell_type": "code",
   "execution_count": 5,
   "id": "1e3bab10",
   "metadata": {},
   "outputs": [
    {
     "name": "stdout",
     "output_type": "stream",
     "text": [
      "[5]\n"
     ]
    }
   ],
   "source": [
    "import numpy as np\n",
    "myarray=np.arange(5,6,2)\n",
    "print(myarray)"
   ]
  },
  {
   "cell_type": "code",
   "execution_count": 20,
   "id": "02a70858",
   "metadata": {},
   "outputs": [
    {
     "name": "stdout",
     "output_type": "stream",
     "text": [
      "[10  8  6  4  2]\n"
     ]
    }
   ],
   "source": [
    "import numpy as np\n",
    "arr2 = np.arange(10,0,-2)\n",
    "print(arr2)\n"
   ]
  },
  {
   "cell_type": "code",
   "execution_count": 10,
   "id": "0cd1d7f5",
   "metadata": {},
   "outputs": [
    {
     "name": "stdout",
     "output_type": "stream",
     "text": [
      "[[4128860 6029375 7274573 7209077]\n",
      " [5242996 6881391 7602286 6357069]\n",
      " [6357102 6619239     114 3342437]]\n"
     ]
    }
   ],
   "source": [
    "import numpy as np\n",
    "arr=np.empty((3,4),dtype=int)\n",
    "print(arr)"
   ]
  },
  {
   "cell_type": "code",
   "execution_count": 11,
   "id": "310480b8",
   "metadata": {},
   "outputs": [
    {
     "name": "stdout",
     "output_type": "stream",
     "text": [
      "[0 0 0]\n"
     ]
    }
   ],
   "source": [
    "import numpy as np\n",
    "arr=np.zeros(3,dtype=int)\n",
    "print(arr)"
   ]
  },
  {
   "cell_type": "code",
   "execution_count": 12,
   "id": "b0eb4d49",
   "metadata": {},
   "outputs": [
    {
     "name": "stdout",
     "output_type": "stream",
     "text": [
      "[[0 0]\n",
      " [0 0]\n",
      " [0 0]]\n"
     ]
    }
   ],
   "source": [
    "import numpy as np\n",
    "arr=np.zeros((3,2),dtype=int)\n",
    "print(arr)"
   ]
  },
  {
   "cell_type": "code",
   "execution_count": 13,
   "id": "11bceabe",
   "metadata": {},
   "outputs": [
    {
     "name": "stdout",
     "output_type": "stream",
     "text": [
      "[1 1 1]\n"
     ]
    }
   ],
   "source": [
    "import numpy as np\n",
    "arr=np.ones(3,dtype=int)\n",
    "print(arr)"
   ]
  },
  {
   "cell_type": "code",
   "execution_count": 14,
   "id": "b6d0d8f6",
   "metadata": {},
   "outputs": [
    {
     "name": "stdout",
     "output_type": "stream",
     "text": [
      "[[1 1]\n",
      " [1 1]\n",
      " [1 1]]\n"
     ]
    }
   ],
   "source": [
    "import numpy as np\n",
    "arr=np.ones((3,2),dtype=int)\n",
    "print(arr)"
   ]
  },
  {
   "cell_type": "code",
   "execution_count": 7,
   "id": "24659582",
   "metadata": {},
   "outputs": [
    {
     "name": "stdout",
     "output_type": "stream",
     "text": [
      "Enter Size of array:3\n",
      "Enter Element:10\n",
      "Enter Element:20\n",
      "Enter Element:30\n",
      "Array elements are:\n",
      "10\n",
      "20\n",
      "30\n",
      "Size: 3\n",
      "Sum of array elements are:\n",
      "60\n"
     ]
    }
   ],
   "source": [
    "import numpy as np\n",
    "list1 = []\n",
    "sum=0\n",
    "a = int(input(\"Enter Size of array:\"))\n",
    "for i in range(a):\n",
    "    list1.append(int(input(\"Enter Element:\")))\n",
    "myarray=np.array(list1)\n",
    "print(\"Array elements are:\")\n",
    "for i in myarray:\n",
    "    print(i)\n",
    "print(\"Size:\",myarray.size)\n",
    "print(\"Sum of array elements are:\")\n",
    "for i in range(0,myarray.size):\n",
    "    sum=sum+myarray[i]\n",
    "print(sum)\n",
    "   "
   ]
  },
  {
   "cell_type": "code",
   "execution_count": 10,
   "id": "a7f83aba",
   "metadata": {},
   "outputs": [
    {
     "name": "stdout",
     "output_type": "stream",
     "text": [
      "Enter Size of array:3\n",
      "Enter Element:10\n",
      "Enter Element:20\n",
      "Enter Element:30\n",
      "60\n"
     ]
    }
   ],
   "source": [
    "import numpy as np\n",
    "list1 = []\n",
    "a = int(input(\"Enter Size of array:\"))\n",
    "for i in range(a):\n",
    "    list1.append(int(input(\"Enter Element:\")))\n",
    "    myarray=np.array(list1)\n",
    "print(np.sum(myarray))"
   ]
  },
  {
   "cell_type": "code",
   "execution_count": 12,
   "id": "5ed321a8",
   "metadata": {},
   "outputs": [
    {
     "name": "stdout",
     "output_type": "stream",
     "text": [
      "Enter Size of array:3\n",
      "Enter Element:11\n",
      "Enter Element:12\n",
      "Enter Element:13\n",
      "Array elements are:\n",
      "11\n",
      "12\n",
      "13\n",
      "Enter item for search:32\n",
      "Item Not found\n"
     ]
    }
   ],
   "source": [
    "import numpy as np\n",
    "list1 = []\n",
    "sum=0\n",
    "a = int(input(\"Enter Size of array:\"))\n",
    "for i in range(a):\n",
    "    list1.append(int(input(\"Enter Element:\")))\n",
    "myarray=np.array(list1)\n",
    "print(\"Array elements are:\")\n",
    "for i in myarray:\n",
    "    print(i)\n",
    "item = int(input(\"Enter item for search:\"))\n",
    "if item in myarray:\n",
    "    print(\"Item found\")\n",
    "else:\n",
    "    print(\"Item Not found\")\n",
    "    "
   ]
  },
  {
   "cell_type": "code",
   "execution_count": 4,
   "id": "7305385b",
   "metadata": {},
   "outputs": [
    {
     "name": "stdout",
     "output_type": "stream",
     "text": [
      "[1 2 4]\n"
     ]
    }
   ],
   "source": [
    "import numpy as np\n",
    "ar=np.array([1,2,4])\n",
    "print(ar)"
   ]
  },
  {
   "cell_type": "code",
   "execution_count": 8,
   "id": "ccc1110c",
   "metadata": {},
   "outputs": [
    {
     "name": "stdout",
     "output_type": "stream",
     "text": [
      "[[1 1]\n",
      " [2 2]\n",
      " [3 3]]\n"
     ]
    }
   ],
   "source": [
    "import numpy as np\n",
    "myarray=np.array([ [1,1],[2,2],[3,3] ])\n",
    "print(myarray)"
   ]
  },
  {
   "cell_type": "code",
   "execution_count": 17,
   "id": "e6ec224d",
   "metadata": {},
   "outputs": [
    {
     "name": "stdout",
     "output_type": "stream",
     "text": [
      "[[5 5]\n",
      " [5 5]\n",
      " [5 5]]\n",
      "[[6 6]\n",
      " [7 7]\n",
      " [8 8]]\n"
     ]
    }
   ],
   "source": [
    "#Addition of two matrix\n",
    "import numpy as np\n",
    "array3=np.empty((3,2), dtype = int)\n",
    "print(array3)\n",
    "array1=np.array([ [1,1],[2,2],[3,3] ])\n",
    "array2=np.array([ [5,5],[5,5],[5,5] ])\n",
    "\n",
    "for i in range(0,3):\n",
    "    for j in range(0,2):\n",
    "        array3[i][j]=array1[i][j]+array2[i][j]\n",
    "print(array3)\n",
    "\n",
    "        \n",
    "\n"
   ]
  },
  {
   "cell_type": "code",
   "execution_count": null,
   "id": "925ba3bf",
   "metadata": {},
   "outputs": [],
   "source": []
  },
  {
   "cell_type": "code",
   "execution_count": null,
   "id": "7d174540",
   "metadata": {},
   "outputs": [],
   "source": []
  }
 ],
 "metadata": {
  "kernelspec": {
   "display_name": "Python 3 (ipykernel)",
   "language": "python",
   "name": "python3"
  },
  "language_info": {
   "codemirror_mode": {
    "name": "ipython",
    "version": 3
   },
   "file_extension": ".py",
   "mimetype": "text/x-python",
   "name": "python",
   "nbconvert_exporter": "python",
   "pygments_lexer": "ipython3",
   "version": "3.9.6"
  }
 },
 "nbformat": 4,
 "nbformat_minor": 5
}

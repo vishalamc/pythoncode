{
 "cells": [
  {
   "cell_type": "code",
   "execution_count": 5,
   "id": "6cefae38",
   "metadata": {},
   "outputs": [
    {
     "name": "stdout",
     "output_type": "stream",
     "text": [
      "4.5\n",
      "7.5\n",
      "9.5\n"
     ]
    }
   ],
   "source": [
    "class Bank:\n",
    "    \n",
    "    def rateOI(self):\n",
    "        return 4.5\n",
    "class SBI(Bank):\n",
    "    def rateOI(self):\n",
    "        return 7.5\n",
    "class PNB(Bank):\n",
    "    def rateOI(self):\n",
    "        return 9.5\n",
    "b1=Bank()\n",
    "print(b1.rateOI())\n",
    "s1=SBI()\n",
    "print(s1.rateOI())\n",
    "p1=PNB()\n",
    "print(p1.rateOI())\n",
    "\n",
    "\n"
   ]
  },
  {
   "cell_type": "code",
   "execution_count": 7,
   "id": "ebaac181",
   "metadata": {},
   "outputs": [
    {
     "name": "stdout",
     "output_type": "stream",
     "text": [
      "I am in A\n",
      "I am in B\n"
     ]
    }
   ],
   "source": [
    "class A:\n",
    "    def __init__(self):\n",
    "        print(\"I am in A\")\n",
    "class B(A):\n",
    "    def __init__(self):\n",
    "        super().__init__()\n",
    "        print(\"I am in B\")\n",
    "b1=B()\n"
   ]
  },
  {
   "cell_type": "code",
   "execution_count": 8,
   "id": "97c5f760",
   "metadata": {},
   "outputs": [
    {
     "name": "stdout",
     "output_type": "stream",
     "text": [
      "I am in A\n",
      "I am in B\n",
      "I am in C\n"
     ]
    }
   ],
   "source": [
    "class A:\n",
    "    def __init__(self):\n",
    "        print(\"I am in A\")\n",
    "class B(A):\n",
    "    def __init__(self):\n",
    "        super().__init__()\n",
    "        print(\"I am in B\")\n",
    "class C(B):\n",
    "    def __init__(self):\n",
    "        super().__init__()\n",
    "        print(\"I am in C\")\n",
    "c1=C()\n"
   ]
  },
  {
   "cell_type": "code",
   "execution_count": null,
   "id": "db30de98",
   "metadata": {},
   "outputs": [],
   "source": []
  }
 ],
 "metadata": {
  "kernelspec": {
   "display_name": "Python 3 (ipykernel)",
   "language": "python",
   "name": "python3"
  },
  "language_info": {
   "codemirror_mode": {
    "name": "ipython",
    "version": 3
   },
   "file_extension": ".py",
   "mimetype": "text/x-python",
   "name": "python",
   "nbconvert_exporter": "python",
   "pygments_lexer": "ipython3",
   "version": "3.9.6"
  }
 },
 "nbformat": 4,
 "nbformat_minor": 5
}

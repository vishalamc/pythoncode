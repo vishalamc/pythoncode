{
 "cells": [
  {
   "cell_type": "code",
   "execution_count": 3,
   "id": "ed008392",
   "metadata": {},
   "outputs": [
    {
     "name": "stdout",
     "output_type": "stream",
     "text": [
      "Name of Student:  Shivam Gupta\n",
      "Reg. Number:  11203456\n",
      "Total Marks:  100\n",
      "Course Code: CAP776\n",
      "Course Title: Python\n",
      "Marks:  45\n",
      "Course Code: DE950\n",
      "Course Title: Php\n",
      "Marks:  55\n"
     ]
    }
   ],
   "source": [
    "#Example of Multiple inheritance\n",
    "class coreSubject:\n",
    "    coreCode=\"CAP776\"\n",
    "    coreTitle=\"Python\"\n",
    "    coreMarks=45\n",
    "    def getCoreSubjectDetails(self):\n",
    "        print(\"Course Code:\",self.coreCode)\n",
    "        print(\"Course Title:\",self.coreTitle)\n",
    "        print(\"Marks: \",self.coreMarks)\n",
    "class departmentElective:\n",
    "    deptCode=\"DE950\"\n",
    "    deptTitle=\"Php\"\n",
    "    deptMarks=55\n",
    "    def getDepartmentElectiveSubject(self):\n",
    "        print(\"Course Code:\",self.deptCode)\n",
    "        print(\"Course Title:\",self.deptTitle)\n",
    "        print(\"Marks: \",self.deptMarks)\n",
    "class Student(coreSubject,departmentElective):\n",
    "    regno=11203456\n",
    "    studentName=\"Shivam Gupta\"\n",
    "    def getStudentDetails(self):\n",
    "        print(\"Name of Student: \",self.studentName)\n",
    "        print(\"Reg. Number: \",self.regno)\n",
    "        print(\"Total Marks: \",self.coreMarks+self.deptMarks)\n",
    "s1=Student()\n",
    "s1.getStudentDetails()\n",
    "s1.getCoreSubjectDetails()\n",
    "s1.getDepartmentElectiveSubject()\n",
    "        \n",
    "\n"
   ]
  },
  {
   "cell_type": "code",
   "execution_count": 10,
   "id": "14309bf4",
   "metadata": {},
   "outputs": [
    {
     "name": "stdout",
     "output_type": "stream",
     "text": [
      "Movie1 collection amount: 500\n",
      "Movie2 collection amount: 0\n",
      "Movie3 collection amount: 0\n"
     ]
    }
   ],
   "source": [
    "class movie1:\n",
    "    amount1=0\n",
    "    def __init__(self):\n",
    "        self.amount1=500\n",
    "    def getmovie1():\n",
    "        print(\"Movie1\")\n",
    "class movie2:\n",
    "    amount2=0\n",
    "    def __init__(self):\n",
    "        self.amount2=700\n",
    "    def getmovie2():\n",
    "        print(\"Movie2\")\n",
    "class movie3:\n",
    "    amount3=0\n",
    "    def __init__(self):\n",
    "        self.amount3=500\n",
    "    def getmovie3():\n",
    "        print(\"Movie3\")\n",
    "class actor(movie1,movie2,movie3):\n",
    "    def getmovieDetails(self):\n",
    "        print(\"Movie1 collection amount:\",self.amount1)\n",
    "        print(\"Movie2 collection amount:\",self.amount2)\n",
    "        print(\"Movie3 collection amount:\",self.amount3)\n",
    "mm1=movie1()\n",
    "mm2=movie2()\n",
    "mm3=movie3()\n",
    "actorobj=actor()\n",
    "actorobj.getmovieDetails()\n",
    "    \n",
    "    "
   ]
  },
  {
   "cell_type": "code",
   "execution_count": null,
   "id": "78938da9",
   "metadata": {},
   "outputs": [],
   "source": []
  },
  {
   "cell_type": "code",
   "execution_count": null,
   "id": "7ab965e9",
   "metadata": {},
   "outputs": [],
   "source": []
  }
 ],
 "metadata": {
  "kernelspec": {
   "display_name": "Python 3 (ipykernel)",
   "language": "python",
   "name": "python3"
  },
  "language_info": {
   "codemirror_mode": {
    "name": "ipython",
    "version": 3
   },
   "file_extension": ".py",
   "mimetype": "text/x-python",
   "name": "python",
   "nbconvert_exporter": "python",
   "pygments_lexer": "ipython3",
   "version": "3.9.6"
  }
 },
 "nbformat": 4,
 "nbformat_minor": 5
}

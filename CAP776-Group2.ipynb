{
 "cells": [
  {
   "cell_type": "code",
   "execution_count": 5,
   "id": "f3c7bb3f",
   "metadata": {},
   "outputs": [
    {
     "name": "stdout",
     "output_type": "stream",
     "text": [
      "<class 'str'>\n"
     ]
    }
   ],
   "source": [
    "a=12\n",
    "b=12.5\n",
    "c=\"hello\"\n",
    "print(type(c))\n"
   ]
  },
  {
   "cell_type": "markdown",
   "id": "064127f1",
   "metadata": {},
   "source": [
    "#this is my first app"
   ]
  },
  {
   "cell_type": "code",
   "execution_count": 7,
   "id": "394a26fd",
   "metadata": {},
   "outputs": [
    {
     "name": "stdout",
     "output_type": "stream",
     "text": [
      "hi\n"
     ]
    }
   ],
   "source": [
    "a,b,c=5,4.5,\"hi\"\n",
    "print(c)"
   ]
  },
  {
   "cell_type": "code",
   "execution_count": 9,
   "id": "f0372694",
   "metadata": {},
   "outputs": [
    {
     "name": "stdout",
     "output_type": "stream",
     "text": [
      "Enter your namevishal\n",
      "Your name is vishal\n"
     ]
    }
   ],
   "source": [
    "name=input(\"Enter your name\")\n",
    "print(\"Your name is\",name)"
   ]
  },
  {
   "cell_type": "code",
   "execution_count": 12,
   "id": "9ea742a4",
   "metadata": {},
   "outputs": [
    {
     "name": "stdout",
     "output_type": "stream",
     "text": [
      "Enter first Number\n",
      "12.3\n",
      "Enter second number\n",
      "11.4\n",
      "Sum: 23.700000000000003\n"
     ]
    }
   ],
   "source": [
    "num1=float(input(\"Enter first Number\\n\"))\n",
    "num2=float(input(\"Enter second number\\n\"))\n",
    "num3=num1+num2\n",
    "print(\"Sum:\",num3)"
   ]
  },
  {
   "cell_type": "code",
   "execution_count": 13,
   "id": "43b11c96",
   "metadata": {},
   "outputs": [
    {
     "data": {
      "text/plain": [
       "3"
      ]
     },
     "execution_count": 13,
     "metadata": {},
     "output_type": "execute_result"
    }
   ],
   "source": [
    "3*1**3"
   ]
  },
  {
   "cell_type": "code",
   "execution_count": 16,
   "id": "9e1b1977",
   "metadata": {},
   "outputs": [
    {
     "name": "stdout",
     "output_type": "stream",
     "text": [
      "a is largset\n",
      "hello\n"
     ]
    }
   ],
   "source": [
    "a=50\n",
    "b=30\n",
    "if (a>b):\n",
    "    print(\"a is largset\")\n",
    "    print(\"hello\")\n",
    "else:\n",
    "    print(\"b is largest\")\n",
    "    "
   ]
  },
  {
   "cell_type": "code",
   "execution_count": 17,
   "id": "34d95b53",
   "metadata": {},
   "outputs": [
    {
     "name": "stdout",
     "output_type": "stream",
     "text": [
      "Enter course code\n",
      "CAP776\n",
      "Enter total CA obtained marks\n",
      "30\n",
      "Enter total MTT obtained marks\n",
      "25\n",
      "Enter total ETE obtained marks\n",
      "55\n",
      "Enter total Attendance Marks\n",
      "5\n",
      "---Report Card----\n",
      "Percentage in CAP776 64.28571428571428%\n",
      "CGPA in CAP776 6.428571428571428"
     ]
    }
   ],
   "source": [
    "#CGPA Calculator\n",
    "CA_Total=100\n",
    "CA_Wtg=25\n",
    "MTT_Total=40\n",
    "MTT_Wtg=20\n",
    "ETE_Total=70\n",
    "ETE_Wtg=50\n",
    "\n",
    "\n",
    "course_code=input(\"Enter course code\\n\")\n",
    "CA_obtained_Marks=float(input(\"Enter total CA obtained marks\\n\"))\n",
    "MTT_obtained_Marks=float(input(\"Enter total MTT obtained marks\\n\"))\n",
    "ETE_obtained_Marks=float(input(\"Enter total ETE obtained marks\\n\"))\n",
    "Att=float(input(\"Enter total Attendance Marks\\n\"))\n",
    "CA=(CA_obtained_Marks*CA_Wtg)/CA_Total\n",
    "MTT=(MTT_obtained_Marks*MTT_Wtg)/MTT_Total\n",
    "ETE=(ETE_obtained_Marks*ETE_Wtg)/ETE_Total\n",
    "Total=CA+MTT+ETE+Att  \n",
    "print(\"---Report Card----\")\n",
    "print(\"Percentage in\",course_code,Total,end=\"\")\n",
    "print(\"%\")\n",
    "print(\"CGPA in\",course_code,Total/10,end=\"\")"
   ]
  },
  {
   "cell_type": "code",
   "execution_count": null,
   "id": "69252da9",
   "metadata": {},
   "outputs": [],
   "source": []
  }
 ],
 "metadata": {
  "kernelspec": {
   "display_name": "Python 3 (ipykernel)",
   "language": "python",
   "name": "python3"
  },
  "language_info": {
   "codemirror_mode": {
    "name": "ipython",
    "version": 3
   },
   "file_extension": ".py",
   "mimetype": "text/x-python",
   "name": "python",
   "nbconvert_exporter": "python",
   "pygments_lexer": "ipython3",
   "version": "3.9.6"
  }
 },
 "nbformat": 4,
 "nbformat_minor": 5
}

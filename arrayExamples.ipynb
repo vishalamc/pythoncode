{
 "cells": [
  {
   "cell_type": "code",
   "execution_count": 6,
   "id": "cef68304",
   "metadata": {},
   "outputs": [
    {
     "name": "stdout",
     "output_type": "stream",
     "text": [
      "Enter size3\n",
      "Enter Item10\n",
      "Enter Item23\n",
      "Enter Item45\n",
      "[10 23 45]\n",
      "10\n",
      "23\n",
      "45\n",
      "Enter item for search23\n",
      "Item found\n"
     ]
    }
   ],
   "source": [
    "import numpy as np\n",
    "list1=[]\n",
    "size=int(input(\"Enter size\"))\n",
    "for i in range(0,size):\n",
    "    num=int(input(\"Enter Item\"))\n",
    "    list1.append(num)\n",
    "mynewarray=np.array(list1)\n",
    "print(mynewarray)\n",
    "for i in range(0,mynewarray.size):\n",
    "    print(mynewarray[i])\n",
    "key=int(input(\"Enter item for search\"))\n",
    "if key in mynewarray:\n",
    "    print(\"Item found\")\n",
    "else:\n",
    "    print(\"item not found\")\n",
    "\n"
   ]
  },
  {
   "cell_type": "code",
   "execution_count": null,
   "id": "55c55a8c",
   "metadata": {},
   "outputs": [],
   "source": []
  },
  {
   "cell_type": "code",
   "execution_count": null,
   "id": "f7ff5c75",
   "metadata": {},
   "outputs": [],
   "source": []
  }
 ],
 "metadata": {
  "kernelspec": {
   "display_name": "Python 3 (ipykernel)",
   "language": "python",
   "name": "python3"
  },
  "language_info": {
   "codemirror_mode": {
    "name": "ipython",
    "version": 3
   },
   "file_extension": ".py",
   "mimetype": "text/x-python",
   "name": "python",
   "nbconvert_exporter": "python",
   "pygments_lexer": "ipython3",
   "version": "3.9.6"
  }
 },
 "nbformat": 4,
 "nbformat_minor": 5
}

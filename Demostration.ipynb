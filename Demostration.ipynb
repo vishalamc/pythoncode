{
 "cells": [
  {
   "cell_type": "code",
   "execution_count": 10,
   "id": "bd7b03e8",
   "metadata": {},
   "outputs": [
    {
     "name": "stdout",
     "output_type": "stream",
     "text": [
      "LPU\n",
      "Mandeep Singh\n"
     ]
    }
   ],
   "source": [
    "class university:\n",
    "    def __init__(self,univName):\n",
    "        self.universityName=univName\n",
    "        print(self.universityName)\n",
    "class student(university):\n",
    "    def __init__(self):\n",
    "        super().__init__(\"LPU\")\n",
    "        self.studentName=\"Mandeep Singh\"\n",
    "        print(self.studentName)\n",
    "\n",
    "s1=student()"
   ]
  },
  {
   "cell_type": "code",
   "execution_count": 15,
   "id": "0cd93a10",
   "metadata": {},
   "outputs": [
    {
     "name": "stdout",
     "output_type": "stream",
     "text": [
      "LPU\n",
      "kumar vishal\n",
      "Mandeep Singh\n"
     ]
    }
   ],
   "source": [
    "class university:\n",
    "    def __init__(self):\n",
    "        self.universityName=\"LPU\"\n",
    "        print(self.universityName)\n",
    "class faculty(university):\n",
    "    def __init__(self):\n",
    "        #super().__init__()\n",
    "        self.facultyName=\"kumar vishal\"\n",
    "        print(self.facultyName)\n",
    "class student(faculty):\n",
    "    def __init__(self):\n",
    "        super().__init__()\n",
    "        self.studentName=\"Mandeep Singh\"\n",
    "        print(self.studentName)\n",
    "u1=university()\n",
    "s1=student()"
   ]
  },
  {
   "cell_type": "code",
   "execution_count": null,
   "id": "63eb4b24",
   "metadata": {},
   "outputs": [],
   "source": [
    "class Bank:\n",
    "    def rateofInterest(self):\n",
    "        pass\n",
    "class SBI(Bank):\n",
    "    def rateofInterest(self):\n",
    "        return 8.5\n",
    "class PNB(Bank):\n",
    "    def rateofInterest(self):\n",
    "        return 9.5\n",
    "class OBC(Bank):\n",
    "    def rateofInterest(self):\n",
    "        return 10\n",
    "\n",
    "    "
   ]
  }
 ],
 "metadata": {
  "kernelspec": {
   "display_name": "Python 3 (ipykernel)",
   "language": "python",
   "name": "python3"
  },
  "language_info": {
   "codemirror_mode": {
    "name": "ipython",
    "version": 3
   },
   "file_extension": ".py",
   "mimetype": "text/x-python",
   "name": "python",
   "nbconvert_exporter": "python",
   "pygments_lexer": "ipython3",
   "version": "3.9.6"
  }
 },
 "nbformat": 4,
 "nbformat_minor": 5
}

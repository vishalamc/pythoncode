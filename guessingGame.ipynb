{
 "cells": [
  {
   "cell_type": "code",
   "execution_count": 2,
   "id": "ee1ff50e",
   "metadata": {},
   "outputs": [
    {
     "name": "stdout",
     "output_type": "stream",
     "text": [
      "Guess my favourite gamekhokho\n",
      "Sorry!! Try again\n",
      "\n",
      "Guess my favourite gameludo\n",
      "Sorry!! Try again\n",
      "\n",
      "Guess my favourite gamepub g\n",
      "Sorry!! Try again\n",
      "\n",
      "Guess my favourite gamecricket\n",
      "Correct this is my favourite game\n"
     ]
    }
   ],
   "source": [
    "game=\"cricket\"\n",
    "guess=input(\"Guess my favourite game\")\n",
    "while guess!=game:\n",
    "    guess=input(\"Sorry!! Try again\\n\\nGuess my favourite game\")\n",
    "print(\"Correct this is my favourite game\")\n",
    "    "
   ]
  },
  {
   "cell_type": "code",
   "execution_count": 8,
   "id": "6dbb0de0",
   "metadata": {},
   "outputs": [
    {
     "ename": "SyntaxError",
     "evalue": "invalid non-printable character U+00A0 (Temp/ipykernel_6332/728261549.py, line 1)",
     "output_type": "error",
     "traceback": [
      "\u001b[1;36m  File \u001b[1;32m\"C:\\Users\\rockstar\\AppData\\Local\\Temp/ipykernel_6332/728261549.py\"\u001b[1;36m, line \u001b[1;32m1\u001b[0m\n\u001b[1;33m    i=1\u001b[0m\n\u001b[1;37m       ^\u001b[0m\n\u001b[1;31mSyntaxError\u001b[0m\u001b[1;31m:\u001b[0m invalid non-printable character U+00A0\n"
     ]
    }
   ],
   "source": [
    "i=1                   \n",
    "while(i < 10): \n",
    "    print(i) \n",
    "   i = i+1  \n",
    "   if(i == 5):  \n",
    "      continue  \n",
    "    \n"
   ]
  },
  {
   "cell_type": "code",
   "execution_count": null,
   "id": "b01c6f32",
   "metadata": {},
   "outputs": [],
   "source": []
  }
 ],
 "metadata": {
  "kernelspec": {
   "display_name": "Python 3 (ipykernel)",
   "language": "python",
   "name": "python3"
  },
  "language_info": {
   "codemirror_mode": {
    "name": "ipython",
    "version": 3
   },
   "file_extension": ".py",
   "mimetype": "text/x-python",
   "name": "python",
   "nbconvert_exporter": "python",
   "pygments_lexer": "ipython3",
   "version": "3.9.6"
  }
 },
 "nbformat": 4,
 "nbformat_minor": 5
}

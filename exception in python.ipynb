{
 "cells": [
  {
   "cell_type": "code",
   "execution_count": 1,
   "id": "666fa0d9",
   "metadata": {},
   "outputs": [
    {
     "name": "stdout",
     "output_type": "stream",
     "text": [
      "Enter first value5\n",
      "Enter second value0\n"
     ]
    },
    {
     "ename": "ZeroDivisionError",
     "evalue": "division by zero",
     "output_type": "error",
     "traceback": [
      "\u001b[1;31m---------------------------------------------------------------------------\u001b[0m",
      "\u001b[1;31mZeroDivisionError\u001b[0m                         Traceback (most recent call last)",
      "\u001b[1;32m~\\AppData\\Local\\Temp/ipykernel_11116/792066598.py\u001b[0m in \u001b[0;36m<module>\u001b[1;34m\u001b[0m\n\u001b[0;32m      1\u001b[0m \u001b[0ma\u001b[0m\u001b[1;33m=\u001b[0m\u001b[0mint\u001b[0m\u001b[1;33m(\u001b[0m\u001b[0minput\u001b[0m\u001b[1;33m(\u001b[0m\u001b[1;34m\"Enter first value\"\u001b[0m\u001b[1;33m)\u001b[0m\u001b[1;33m)\u001b[0m\u001b[1;33m\u001b[0m\u001b[1;33m\u001b[0m\u001b[0m\n\u001b[0;32m      2\u001b[0m \u001b[0mb\u001b[0m\u001b[1;33m=\u001b[0m\u001b[0mint\u001b[0m\u001b[1;33m(\u001b[0m\u001b[0minput\u001b[0m\u001b[1;33m(\u001b[0m\u001b[1;34m\"Enter second value\"\u001b[0m\u001b[1;33m)\u001b[0m\u001b[1;33m)\u001b[0m\u001b[1;33m\u001b[0m\u001b[1;33m\u001b[0m\u001b[0m\n\u001b[1;32m----> 3\u001b[1;33m \u001b[0mc\u001b[0m\u001b[1;33m=\u001b[0m\u001b[0ma\u001b[0m\u001b[1;33m/\u001b[0m\u001b[0mb\u001b[0m\u001b[1;33m\u001b[0m\u001b[1;33m\u001b[0m\u001b[0m\n\u001b[0m\u001b[0;32m      4\u001b[0m \u001b[0mprint\u001b[0m\u001b[1;33m(\u001b[0m\u001b[0mc\u001b[0m\u001b[1;33m)\u001b[0m\u001b[1;33m\u001b[0m\u001b[1;33m\u001b[0m\u001b[0m\n\u001b[0;32m      5\u001b[0m \u001b[0mprint\u001b[0m\u001b[1;33m(\u001b[0m\u001b[1;34m\"End of the program\"\u001b[0m\u001b[1;33m)\u001b[0m\u001b[1;33m\u001b[0m\u001b[1;33m\u001b[0m\u001b[0m\n",
      "\u001b[1;31mZeroDivisionError\u001b[0m: division by zero"
     ]
    }
   ],
   "source": [
    "# Program without exception handler\n",
    "a=int(input(\"Enter first value\"))\n",
    "b=int(input(\"Enter second value\"))\n",
    "c=a/b\n",
    "print(c)\n",
    "print(\"End of the program\")"
   ]
  },
  {
   "cell_type": "code",
   "execution_count": 2,
   "id": "de7514fe",
   "metadata": {},
   "outputs": [
    {
     "name": "stdout",
     "output_type": "stream",
     "text": [
      "Enter first value5\n",
      "Enter second value0\n",
      "Exception is raised in program\n",
      "End of the program\n"
     ]
    }
   ],
   "source": [
    "# Exception handler using now in program\n",
    "try:\n",
    "    a=int(input(\"Enter first value\"))\n",
    "    b=int(input(\"Enter second value\"))\n",
    "    c=a/b\n",
    "    print(c)\n",
    "except:\n",
    "    print(\"Exception is raised in program\")\n",
    "print(\"End of the program\")"
   ]
  },
  {
   "cell_type": "code",
   "execution_count": 5,
   "id": "65999a7f",
   "metadata": {},
   "outputs": [
    {
     "name": "stdout",
     "output_type": "stream",
     "text": [
      "Enter first value10\n",
      "Enter second value3\n",
      "3.3333333333333335\n",
      "End of the program\n",
      "Hello\n"
     ]
    }
   ],
   "source": [
    "\n",
    "try:\n",
    "    a=int(input(\"Enter first value\"))\n",
    "    b=int(input(\"Enter second value\"))\n",
    "    c=a/b\n",
    "    print(c)\n",
    "except:\n",
    "    print(\"Exception is raised in program\")\n",
    "else:\n",
    "    print(\"End of the program\")\n",
    "print(\"Hello\")\n"
   ]
  },
  {
   "cell_type": "code",
   "execution_count": 10,
   "id": "be294ece",
   "metadata": {},
   "outputs": [
    {
     "name": "stdout",
     "output_type": "stream",
     "text": [
      "Enter any valuepp\n",
      "name 'nu' is not defined\n"
     ]
    }
   ],
   "source": [
    "#NameError Exception\n",
    "try:\n",
    "    num=input(\"Enter any value\")\n",
    "    print(nu)\n",
    "except NameError as n1:\n",
    "    print(n1)\n"
   ]
  },
  {
   "cell_type": "code",
   "execution_count": 12,
   "id": "96178082",
   "metadata": {},
   "outputs": [
    {
     "name": "stdout",
     "output_type": "stream",
     "text": [
      "Enter any value5\n",
      "Enter second value2\n",
      "Exception occurs\n"
     ]
    }
   ],
   "source": [
    "\n",
    "# Example of Multiple Exceptions\n",
    "try:\n",
    "    a=float(input(\"Enter any value\"))\n",
    "    b=float(input(\"Enter second value\"))\n",
    "    c=a/b\n",
    "    print(z)\n",
    "except(TypeError,ZeroDivisionError,NameError):\n",
    "    print(\"Exception occurs\")\n",
    "else:\n",
    "    print(\"No Exception\")"
   ]
  },
  {
   "cell_type": "code",
   "execution_count": 11,
   "id": "67e06c47",
   "metadata": {},
   "outputs": [
    {
     "name": "stdout",
     "output_type": "stream",
     "text": [
      "Enter any value5\n",
      "Enter second value2\n"
     ]
    },
    {
     "ename": "NameError",
     "evalue": "name 'z' is not defined",
     "output_type": "error",
     "traceback": [
      "\u001b[1;31m---------------------------------------------------------------------------\u001b[0m",
      "\u001b[1;31mNameError\u001b[0m                                 Traceback (most recent call last)",
      "\u001b[1;32m~\\AppData\\Local\\Temp/ipykernel_7892/3667973309.py\u001b[0m in \u001b[0;36m<module>\u001b[1;34m\u001b[0m\n\u001b[0;32m      2\u001b[0m \u001b[0mb\u001b[0m\u001b[1;33m=\u001b[0m\u001b[0mfloat\u001b[0m\u001b[1;33m(\u001b[0m\u001b[0minput\u001b[0m\u001b[1;33m(\u001b[0m\u001b[1;34m\"Enter second value\"\u001b[0m\u001b[1;33m)\u001b[0m\u001b[1;33m)\u001b[0m\u001b[1;33m\u001b[0m\u001b[1;33m\u001b[0m\u001b[0m\n\u001b[0;32m      3\u001b[0m \u001b[0mc\u001b[0m\u001b[1;33m=\u001b[0m\u001b[0ma\u001b[0m\u001b[1;33m/\u001b[0m\u001b[0mb\u001b[0m\u001b[1;33m\u001b[0m\u001b[1;33m\u001b[0m\u001b[0m\n\u001b[1;32m----> 4\u001b[1;33m \u001b[0mprint\u001b[0m\u001b[1;33m(\u001b[0m\u001b[0mz\u001b[0m\u001b[1;33m)\u001b[0m\u001b[1;33m\u001b[0m\u001b[1;33m\u001b[0m\u001b[0m\n\u001b[0m",
      "\u001b[1;31mNameError\u001b[0m: name 'z' is not defined"
     ]
    }
   ],
   "source": [
    "a=float(input(\"Enter any value\"))\n",
    "b=float(input(\"Enter second value\"))\n",
    "c=a/b\n",
    "print(z)"
   ]
  },
  {
   "cell_type": "code",
   "execution_count": 17,
   "id": "b42d1112",
   "metadata": {},
   "outputs": [
    {
     "name": "stdout",
     "output_type": "stream",
     "text": [
      "Enter first value5\n",
      "Enter second value2\n",
      "unsupported operand type(s) for /: 'str' and 'str'\n"
     ]
    }
   ],
   "source": [
    "# Example for miltiple Except statements\n",
    "try:\n",
    "    a=input(\"Enter first value\")\n",
    "    b=input(\"Enter second value\")\n",
    "    c=a/b\n",
    "    print(c)\n",
    "except TypeError as t:\n",
    "    print(t)\n",
    "except ZeroDivisionError as z:\n",
    "    print(z)\n",
    "except NameError as n:\n",
    "    print(n)\n",
    "else:\n",
    "    print(\"No Exception\")"
   ]
  },
  {
   "cell_type": "code",
   "execution_count": 21,
   "id": "8d0c64f7",
   "metadata": {},
   "outputs": [
    {
     "name": "stdout",
     "output_type": "stream",
     "text": [
      "Enter salary amount: 17000\n",
      "Balance Not Sufficient\n"
     ]
    }
   ],
   "source": [
    "class SalaryNotInRangeError(Exception):\n",
    "    def __init__(self, salary, message=\"not in range\"):\n",
    "        self.salary = salary\n",
    "        self.message = message\n",
    "        super().__init__(self.message)\n",
    "try:\n",
    "    salary = int(input(\"Enter salary amount: \"))\n",
    "    if not 5000 < salary < 15000:\n",
    "        raise SalaryNotInRangeError(salary)\n",
    "except SalaryNotInRangeError:\n",
    "    print(\"Balance Not Sufficient\")\n"
   ]
  },
  {
   "cell_type": "code",
   "execution_count": 2,
   "id": "04463db1",
   "metadata": {},
   "outputs": [
    {
     "name": "stdout",
     "output_type": "stream",
     "text": [
      "Division successful\n",
      "hello\n"
     ]
    }
   ],
   "source": [
    "data = 50\n",
    "try:\n",
    "    data = data/10\n",
    "except ZeroDivisionError:\n",
    "    print(\"Cannot divide by 0\")\n",
    "else:\n",
    "    print(\"Division successful\") \n",
    "finally:\n",
    "    print(\"hello\")\n",
    "\n"
   ]
  },
  {
   "cell_type": "code",
   "execution_count": 4,
   "id": "a3de10a2",
   "metadata": {},
   "outputs": [
    {
     "name": "stdout",
     "output_type": "stream",
     "text": [
      "Enter first value23\n",
      "Enter first value0\n",
      "Invalid division\n"
     ]
    }
   ],
   "source": [
    "try:\n",
    "    a=float(input(\"Enter first value\"))\n",
    "    b=float(input(\"Enter first value\"))\n",
    "    c=a/b\n",
    "    print(c)\n",
    "except ZeroDivisionError:\n",
    "    print(\"Invalid division\")"
   ]
  },
  {
   "cell_type": "code",
   "execution_count": 7,
   "id": "b6199205",
   "metadata": {},
   "outputs": [
    {
     "name": "stdout",
     "output_type": "stream",
     "text": [
      "Enter integer valuekumar\n",
      "Format mismatch\n"
     ]
    }
   ],
   "source": [
    "try:\n",
    "    intval=int(input(\"Enter integer value\"))\n",
    "    print(intval)\n",
    "except ValueError:\n",
    "    print(\"Format mismatch\")"
   ]
  },
  {
   "cell_type": "code",
   "execution_count": 12,
   "id": "9bdeb427",
   "metadata": {},
   "outputs": [
    {
     "name": "stdout",
     "output_type": "stream",
     "text": [
      "Index is invalid\n"
     ]
    }
   ],
   "source": [
    "try:\n",
    "    str=\"hello\"\n",
    "    print(str[5])\n",
    "except IndexError:\n",
    "    print(\"Index is invalid\")"
   ]
  },
  {
   "cell_type": "code",
   "execution_count": 13,
   "id": "9a64b96e",
   "metadata": {},
   "outputs": [
    {
     "ename": "IndexError",
     "evalue": "list index out of range",
     "output_type": "error",
     "traceback": [
      "\u001b[1;31m---------------------------------------------------------------------------\u001b[0m",
      "\u001b[1;31mIndexError\u001b[0m                                Traceback (most recent call last)",
      "\u001b[1;32m~\\AppData\\Local\\Temp/ipykernel_10636/1350765519.py\u001b[0m in \u001b[0;36m<module>\u001b[1;34m\u001b[0m\n\u001b[0;32m      1\u001b[0m \u001b[0mlist1\u001b[0m\u001b[1;33m=\u001b[0m\u001b[1;33m[\u001b[0m\u001b[1;34m'cap101'\u001b[0m\u001b[1;33m,\u001b[0m\u001b[1;34m'cap102'\u001b[0m\u001b[1;33m,\u001b[0m\u001b[1;34m'cap103'\u001b[0m\u001b[1;33m]\u001b[0m\u001b[1;33m\u001b[0m\u001b[1;33m\u001b[0m\u001b[0m\n\u001b[1;32m----> 2\u001b[1;33m \u001b[0mlist1\u001b[0m\u001b[1;33m[\u001b[0m\u001b[1;36m4\u001b[0m\u001b[1;33m]\u001b[0m\u001b[1;33m\u001b[0m\u001b[1;33m\u001b[0m\u001b[0m\n\u001b[0m",
      "\u001b[1;31mIndexError\u001b[0m: list index out of range"
     ]
    }
   ],
   "source": [
    "try:\n",
    "    list1=['cap101','cap102','cap103']\n",
    "    print(list1[4])\n",
    "except IndexError:\n",
    "    print(\"index is invalid\")\n",
    "    "
   ]
  },
  {
   "cell_type": "code",
   "execution_count": 17,
   "id": "1238abcc",
   "metadata": {},
   "outputs": [
    {
     "name": "stdout",
     "output_type": "stream",
     "text": [
      "hello\n",
      "bye\n"
     ]
    }
   ],
   "source": [
    "value = [1, 2, 3, 4, 5]\n",
    "try:\n",
    "    value = value[4]/0\n",
    "except (IndexError, ZeroDivisionError):\n",
    "    print(\"hello\")\n",
    "else:\n",
    "    print(\"hi\")\n",
    "finally:\n",
    "    print(\"bye\")\n"
   ]
  },
  {
   "cell_type": "code",
   "execution_count": 25,
   "id": "2ae66d0d",
   "metadata": {},
   "outputs": [
    {
     "name": "stdout",
     "output_type": "stream",
     "text": [
      "Enter withdrawal amount70000\n",
      "Insufficient Balance\n"
     ]
    }
   ],
   "source": [
    "class invalidAmountError(Exception):\n",
    "    def __init__(self,amount,message=\"Insufficient Balance\"):\n",
    "        self.amount=amount\n",
    "        self.message=message\n",
    "        super().__init__(self.message)\n",
    "balAmt=1000\n",
    "amt=float(input(\"Enter withdrawal amount\"))\n",
    "try:\n",
    "    if amt>balAmt:\n",
    "        raise invalidAmountError(amt)\n",
    "except invalidAmountError as e:\n",
    "    print(e)\n",
    "    \n"
   ]
  },
  {
   "cell_type": "code",
   "execution_count": 9,
   "id": "4fa259e5",
   "metadata": {},
   "outputs": [],
   "source": [
    "class invalidUserError(Exception):\n",
    "    def __init__(self,name,message=\"Invalid User Name\"):\n",
    "        self.name=name\n",
    "        self.message=message\n",
    "        super().__init__(self.message)\n",
    "class invalidPasswordError(Exception):\n",
    "    def __init__(self,password,message=\"Invalid password\"):\n",
    "        self.password=password\n",
    "        self.message=message\n",
    "\n",
    "\n",
    "    \n",
    "\n",
    "    \n",
    "    \n"
   ]
  },
  {
   "cell_type": "code",
   "execution_count": 29,
   "id": "17da4d2e",
   "metadata": {},
   "outputs": [
    {
     "name": "stdout",
     "output_type": "stream",
     "text": [
      "Enter usernameKumar\n",
      "User is valid\n"
     ]
    }
   ],
   "source": [
    "class ValidateUserError(Exception):\n",
    "    def __init__(self,username,message=\"Not a valid user\"):\n",
    "        self.username=username\n",
    "        self.message=message\n",
    "        super().__init__(self.message)\n",
    "try:\n",
    "    struser=input(\"Enter username\")\n",
    "    userlist=['Admin', 'Kumar','Vishal','Shivam']\n",
    "    if struser not in userlist:\n",
    "        raise ValidateUserError(struser)\n",
    "    else:\n",
    "        print(\"User is valid\")\n",
    "except ValidateUserError as e:\n",
    "    print(e)\n",
    "\n",
    "\n",
    "\n",
    "    \n",
    "\n",
    "\n"
   ]
  },
  {
   "cell_type": "code",
   "execution_count": 28,
   "id": "568e8cdb",
   "metadata": {},
   "outputs": [
    {
     "name": "stdout",
     "output_type": "stream",
     "text": [
      "valid\n"
     ]
    }
   ],
   "source": [
    "userlist=['Admin', 'Kumar','Vishal','Shivam']\n",
    "str=\"Vishal\"\n",
    "if str not in userlist:\n",
    "    print(\"not valid\")\n",
    "else:\n",
    "    print(\"valid\")"
   ]
  },
  {
   "cell_type": "code",
   "execution_count": null,
   "id": "d2bf24a2",
   "metadata": {},
   "outputs": [],
   "source": []
  }
 ],
 "metadata": {
  "kernelspec": {
   "display_name": "Python 3 (ipykernel)",
   "language": "python",
   "name": "python3"
  },
  "language_info": {
   "codemirror_mode": {
    "name": "ipython",
    "version": 3
   },
   "file_extension": ".py",
   "mimetype": "text/x-python",
   "name": "python",
   "nbconvert_exporter": "python",
   "pygments_lexer": "ipython3",
   "version": "3.9.6"
  }
 },
 "nbformat": 4,
 "nbformat_minor": 5
}

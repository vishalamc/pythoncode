{
 "cells": [
  {
   "cell_type": "code",
   "execution_count": 7,
   "id": "115d4fac",
   "metadata": {},
   "outputs": [
    {
     "ename": "AttributeError",
     "evalue": "'Result' object has no attribute '_studentName'",
     "output_type": "error",
     "traceback": [
      "\u001b[1;31m---------------------------------------------------------------------------\u001b[0m",
      "\u001b[1;31mAttributeError\u001b[0m                            Traceback (most recent call last)",
      "\u001b[1;32m~\\AppData\\Local\\Temp/ipykernel_13000/3450526981.py\u001b[0m in \u001b[0;36m<module>\u001b[1;34m\u001b[0m\n\u001b[0;32m     30\u001b[0m \u001b[0mS1\u001b[0m\u001b[1;33m=\u001b[0m\u001b[0mStudent\u001b[0m\u001b[1;33m(\u001b[0m\u001b[1;33m)\u001b[0m\u001b[1;33m\u001b[0m\u001b[1;33m\u001b[0m\u001b[0m\n\u001b[0;32m     31\u001b[0m \u001b[0mres\u001b[0m\u001b[1;33m=\u001b[0m\u001b[0mResult\u001b[0m\u001b[1;33m(\u001b[0m\u001b[1;33m)\u001b[0m\u001b[1;33m\u001b[0m\u001b[1;33m\u001b[0m\u001b[0m\n\u001b[1;32m---> 32\u001b[1;33m \u001b[0mres\u001b[0m\u001b[1;33m.\u001b[0m\u001b[0mgetStudentDetails\u001b[0m\u001b[1;33m(\u001b[0m\u001b[1;33m)\u001b[0m\u001b[1;33m\u001b[0m\u001b[1;33m\u001b[0m\u001b[0m\n\u001b[0m\u001b[0;32m     33\u001b[0m \u001b[0mres\u001b[0m\u001b[1;33m.\u001b[0m\u001b[0mcheckResult\u001b[0m\u001b[1;33m(\u001b[0m\u001b[1;33m)\u001b[0m\u001b[1;33m\u001b[0m\u001b[1;33m\u001b[0m\u001b[0m\n\u001b[0;32m     34\u001b[0m \u001b[1;33m\u001b[0m\u001b[0m\n",
      "\u001b[1;32m~\\AppData\\Local\\Temp/ipykernel_13000/3450526981.py\u001b[0m in \u001b[0;36mgetStudentDetails\u001b[1;34m(self)\u001b[0m\n\u001b[0;32m     10\u001b[0m         \u001b[0mself\u001b[0m\u001b[1;33m.\u001b[0m\u001b[0m_marks5\u001b[0m\u001b[1;33m=\u001b[0m\u001b[1;36m0\u001b[0m\u001b[1;33m\u001b[0m\u001b[1;33m\u001b[0m\u001b[0m\n\u001b[0;32m     11\u001b[0m     \u001b[1;32mdef\u001b[0m \u001b[0mgetStudentDetails\u001b[0m\u001b[1;33m(\u001b[0m\u001b[0mself\u001b[0m\u001b[1;33m)\u001b[0m\u001b[1;33m:\u001b[0m\u001b[1;33m\u001b[0m\u001b[1;33m\u001b[0m\u001b[0m\n\u001b[1;32m---> 12\u001b[1;33m         \u001b[0mprint\u001b[0m\u001b[1;33m(\u001b[0m\u001b[1;34m\"Student Name: \"\u001b[0m\u001b[1;33m,\u001b[0m\u001b[0mself\u001b[0m\u001b[1;33m.\u001b[0m\u001b[0m_studentName\u001b[0m\u001b[1;33m)\u001b[0m\u001b[1;33m\u001b[0m\u001b[1;33m\u001b[0m\u001b[0m\n\u001b[0m\u001b[0;32m     13\u001b[0m         \u001b[0mprint\u001b[0m\u001b[1;33m(\u001b[0m\u001b[1;34m\"Student Reg.No.: \"\u001b[0m\u001b[1;33m,\u001b[0m\u001b[0mself\u001b[0m\u001b[1;33m.\u001b[0m\u001b[0m_regno\u001b[0m\u001b[1;33m)\u001b[0m\u001b[1;33m\u001b[0m\u001b[1;33m\u001b[0m\u001b[0m\n\u001b[0;32m     14\u001b[0m \u001b[1;33m\u001b[0m\u001b[0m\n",
      "\u001b[1;31mAttributeError\u001b[0m: 'Result' object has no attribute '_studentName'"
     ]
    }
   ],
   "source": [
    "class Student:\n",
    "   \n",
    "    def __init__(self):\n",
    "        self._studentName=\"Manpreet Singh\"\n",
    "        self._regno=11201123\n",
    "        self._marks1=0\n",
    "        self._marks2=0\n",
    "        self._marks3=0\n",
    "        self._marks4=0\n",
    "        self._marks5=0\n",
    "    def getStudentDetails(self):\n",
    "        print(\"Student Name: \",self._studentName)\n",
    "        print(\"Student Reg.No.: \",self._regno)\n",
    "        \n",
    "    def setMarks(self,m1,m2,m3,m4,m5):\n",
    "        self._marks1=m1\n",
    "        self._marks2=m2\n",
    "        self._marks3=m3\n",
    "        self._marks4=m4\n",
    "        self._marks5=m5\n",
    "class Result(Student):\n",
    "    def __init__(self):\n",
    "        self.totalMarks=0\n",
    "    def checkResult(self):\n",
    "        self.totalMarks=self._marks1+self._marks2+self._marks3+self._marks4+self._marks5\n",
    "        if self.totalMarks>40:\n",
    "            print(\"Student is PASS\")\n",
    "        else:\n",
    "            print(\"Student is FAIL\")\n",
    "S1=Student()\n",
    "res=Result()\n",
    "res.getStudentDetails()\n",
    "res.checkResult()\n",
    "    \n",
    "    \n",
    "         \n",
    "        \n",
    "        \n",
    "        "
   ]
  },
  {
   "cell_type": "code",
   "execution_count": null,
   "id": "7afb1a66",
   "metadata": {},
   "outputs": [],
   "source": []
  },
  {
   "cell_type": "code",
   "execution_count": 21,
   "id": "2f1d2dbf",
   "metadata": {},
   "outputs": [
    {
     "name": "stdout",
     "output_type": "stream",
     "text": [
      "Student Name:  Manpreet Singh\n",
      "Student Reg.No.:  11201123\n",
      "Fail\n"
     ]
    }
   ],
   "source": [
    "class Student:\n",
    "   \n",
    "    def __init__(self):\n",
    "        self._studentName=\"Manpreet Singh\"\n",
    "        self._regno=11201123\n",
    "        self._marks1=0\n",
    "        self._marks2=0\n",
    "        self._marks3=0\n",
    "        self._marks4=0\n",
    "        self._marks5=0\n",
    "        self._Total=0\n",
    "    def getStudentDetails(self):\n",
    "        print(\"Student Name: \",self._studentName)\n",
    "        print(\"Student Reg.No.: \",self._regno)\n",
    "    def setMarks(self,m1,m2,m3,m4,m5):\n",
    "        self._marks1=m1\n",
    "        self._marks2=m2\n",
    "        self._marks3=m3\n",
    "        self._marks4=m4\n",
    "        self._marks5=m5\n",
    "        self._Total=self._marks1+self._marks2+self._marks3+self._marks4+self._marks5\n",
    "        return self._Total\n",
    "class Result(Student):\n",
    "    def __init__(self):\n",
    "        self.PassingMarks=200\n",
    "    def checkResult(self):\n",
    "        total=self.setMarks(25,30,40,35,40)\n",
    "        if total>200:\n",
    "            print(\"pass\")\n",
    "        else:\n",
    "            print(\"Fail\")\n",
    "        \n",
    "\n",
    "s1=Student()\n",
    "s1.getStudentDetails()\n",
    "r1=Result()\n",
    "r1.checkResult()"
   ]
  },
  {
   "cell_type": "code",
   "execution_count": null,
   "id": "ef35eaad",
   "metadata": {},
   "outputs": [],
   "source": []
  }
 ],
 "metadata": {
  "kernelspec": {
   "display_name": "Python 3 (ipykernel)",
   "language": "python",
   "name": "python3"
  },
  "language_info": {
   "codemirror_mode": {
    "name": "ipython",
    "version": 3
   },
   "file_extension": ".py",
   "mimetype": "text/x-python",
   "name": "python",
   "nbconvert_exporter": "python",
   "pygments_lexer": "ipython3",
   "version": "3.9.6"
  }
 },
 "nbformat": 4,
 "nbformat_minor": 5
}

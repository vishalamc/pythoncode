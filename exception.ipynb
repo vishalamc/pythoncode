{
 "cells": [
  {
   "cell_type": "code",
   "execution_count": 13,
   "id": "dc6c1c0c",
   "metadata": {},
   "outputs": [
    {
     "name": "stdout",
     "output_type": "stream",
     "text": [
      "enter a8\n",
      "enter b6\n",
      "1.3333333333333333\n",
      "end\n"
     ]
    }
   ],
   "source": [
    "try:\n",
    "    a=int(input(\"enter a\"))\n",
    "    b=int(input(\"enter b\"))\n",
    "    c=a/b\n",
    "    print(c)\n",
    "except:\n",
    "    print(\"exception\")\n",
    "else:\n",
    "    print(\"end\")\n"
   ]
  },
  {
   "cell_type": "code",
   "execution_count": 15,
   "id": "52e1c216",
   "metadata": {},
   "outputs": [
    {
     "name": "stdout",
     "output_type": "stream",
     "text": [
      "kk\n"
     ]
    },
    {
     "ename": "NameError",
     "evalue": "name 'nu' is not defined",
     "output_type": "error",
     "traceback": [
      "\u001b[1;31m---------------------------------------------------------------------------\u001b[0m",
      "\u001b[1;31mNameError\u001b[0m                                 Traceback (most recent call last)",
      "\u001b[1;32m~\\AppData\\Local\\Temp/ipykernel_9412/2920332794.py\u001b[0m in \u001b[0;36m<module>\u001b[1;34m\u001b[0m\n\u001b[0;32m      1\u001b[0m \u001b[1;31m#NameError Exception\u001b[0m\u001b[1;33m\u001b[0m\u001b[1;33m\u001b[0m\u001b[1;33m\u001b[0m\u001b[0m\n\u001b[0;32m      2\u001b[0m \u001b[0mnum\u001b[0m \u001b[1;33m=\u001b[0m \u001b[0minput\u001b[0m\u001b[1;33m(\u001b[0m\u001b[1;33m)\u001b[0m\u001b[1;33m\u001b[0m\u001b[1;33m\u001b[0m\u001b[0m\n\u001b[1;32m----> 3\u001b[1;33m \u001b[0mprint\u001b[0m\u001b[1;33m(\u001b[0m\u001b[0mnu\u001b[0m\u001b[1;33m)\u001b[0m\u001b[1;33m\u001b[0m\u001b[1;33m\u001b[0m\u001b[0m\n\u001b[0m",
      "\u001b[1;31mNameError\u001b[0m: name 'nu' is not defined"
     ]
    }
   ],
   "source": [
    "#NameError Exception\n",
    "num = input()\n",
    "print(nu)"
   ]
  },
  {
   "cell_type": "code",
   "execution_count": 19,
   "id": "e81c4c01",
   "metadata": {},
   "outputs": [
    {
     "name": "stdout",
     "output_type": "stream",
     "text": [
      "kk\n",
      "NameError occured. Some variable isn't defined.\n"
     ]
    }
   ],
   "source": [
    "#Handling NameError\n",
    "try:\n",
    "    num=input()\n",
    "    print(nu)\n",
    "except NameError:\n",
    "    print(\"NameError occured. Some variable isn't defined.\")"
   ]
  },
  {
   "cell_type": "code",
   "execution_count": 12,
   "id": "8b9ae759",
   "metadata": {},
   "outputs": [
    {
     "name": "stdout",
     "output_type": "stream",
     "text": [
      "Enter value8\n",
      "hello\n"
     ]
    }
   ],
   "source": [
    "try:\n",
    " a=0\n",
    " b=input(\"Enter value\")\n",
    " c=b/2\n",
    " print(d)\n",
    "\n",
    "except TypeError as y:\n",
    " print(\"hello\")\n",
    "except ZeroDivisionError as x:\n",
    " print(x)\n",
    "else:\n",
    " print(\"ok\")  "
   ]
  },
  {
   "cell_type": "code",
   "execution_count": 18,
   "id": "8f532de6",
   "metadata": {},
   "outputs": [
    {
     "name": "stdout",
     "output_type": "stream",
     "text": [
      "Enter value8\n",
      "heloo\n"
     ]
    }
   ],
   "source": [
    "try:\n",
    " a=0\n",
    " b=input(\"Enter value\")\n",
    " c=b/2\n",
    " print(d)\n",
    "\n",
    "except (ZeroDivisionError,TypeError):\n",
    " print(\"heloo\")\n",
    "else:\n",
    " print(\"ok\")  "
   ]
  },
  {
   "cell_type": "code",
   "execution_count": null,
   "id": "6d924cb5",
   "metadata": {},
   "outputs": [],
   "source": []
  }
 ],
 "metadata": {
  "kernelspec": {
   "display_name": "Python 3 (ipykernel)",
   "language": "python",
   "name": "python3"
  },
  "language_info": {
   "codemirror_mode": {
    "name": "ipython",
    "version": 3
   },
   "file_extension": ".py",
   "mimetype": "text/x-python",
   "name": "python",
   "nbconvert_exporter": "python",
   "pygments_lexer": "ipython3",
   "version": "3.9.6"
  }
 },
 "nbformat": 4,
 "nbformat_minor": 5
}

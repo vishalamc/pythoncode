{
 "cells": [
  {
   "cell_type": "code",
   "execution_count": 3,
   "id": "d4cc79be",
   "metadata": {},
   "outputs": [
    {
     "name": "stdout",
     "output_type": "stream",
     "text": [
      "Enter first Value\n",
      "10\n",
      "Enter second value\n",
      "12\n",
      "Select your choice:\n",
      " 1.Bitwise And\n",
      "2.Bitwise OR\n",
      "3. Bitwise XOR\n",
      "1\n",
      "Play Song\n"
     ]
    }
   ],
   "source": [
    "value1=int(input(\"Enter first Value\\n\"))\n",
    "value2=int(input(\"Enter second value\\n\"))\n",
    "ch=int(input(\"Select your choice:\\n 1.Bitwise And\\n2.Bitwise OR\\n3. Bitwise XOR\\n\"))\n",
    "if ch==1:\n",
    "    result=(value1&value2)\n",
    "    if result==8:\n",
    "        print(\"Play Song\")\n",
    "    if result==12:\n",
    "        print(\"Play Music\")\n",
    "    \n",
    "if ch==2:\n",
    "    print(\"Result:\",(value1|value2))"
   ]
  },
  {
   "cell_type": "code",
   "execution_count": 4,
   "id": "322f8f2e",
   "metadata": {},
   "outputs": [
    {
     "name": "stdout",
     "output_type": "stream",
     "text": [
      "Enter the number for a: 5\n",
      "Enter the number for b: 7\n",
      "Sum of two numbers 12\n"
     ]
    }
   ],
   "source": [
    "a=int(input(\"Enter the number for a: \"))\n",
    "b=int(input(\"Enter the number for b: \"))\n",
    "def add(a,b): \n",
    "    while(b != 0):\n",
    "        c=a&b \n",
    "        a=a^b \n",
    "        b=c<<1\n",
    "    return a\n",
    "print(\"Sum of two numbers\",add(a,b))"
   ]
  },
  {
   "cell_type": "code",
   "execution_count": 13,
   "id": "01acebc5",
   "metadata": {},
   "outputs": [
    {
     "name": "stdout",
     "output_type": "stream",
     "text": [
      "Enter the number for x: 12\n",
      "Enter the number for y: 4\n",
      "result: 8\n"
     ]
    }
   ],
   "source": [
    "x=int(input(\"Enter the number for x: \"))\n",
    "y=int(input(\"Enter the number for y: \"))\n",
    "def subtract(x,y):\n",
    "    while (y != 0):\n",
    "        z = (~x) & y\n",
    "        x = x ^ y\n",
    "        y = z << 1\n",
    "    return x\n",
    "print(\"result:\",subtract(x,y))\n"
   ]
  },
  {
   "cell_type": "code",
   "execution_count": 5,
   "id": "9a3472c4",
   "metadata": {},
   "outputs": [
    {
     "name": "stdout",
     "output_type": "stream",
     "text": [
      "2021\n"
     ]
    }
   ],
   "source": [
    "import datetime\n",
    "datetime_object = datetime.datetime.now()\n",
    "print(datetime_object.year)"
   ]
  },
  {
   "cell_type": "code",
   "execution_count": 8,
   "id": "af5878f3",
   "metadata": {},
   "outputs": [
    {
     "name": "stdout",
     "output_type": "stream",
     "text": [
      "Enter namekumar\n",
      "Enter age46\n",
      "2070\n"
     ]
    }
   ],
   "source": [
    "import datetime\n",
    "datetime_object = datetime.datetime.now()\n",
    "name=input(\"Enter name\")\n",
    "age=int(input(\"Enter age\"))\n",
    "newyear=(95-age)+datetime_object.year\n",
    "print(newyear)\n",
    "\n"
   ]
  },
  {
   "cell_type": "code",
   "execution_count": null,
   "id": "90a94260",
   "metadata": {},
   "outputs": [],
   "source": []
  }
 ],
 "metadata": {
  "kernelspec": {
   "display_name": "Python 3 (ipykernel)",
   "language": "python",
   "name": "python3"
  },
  "language_info": {
   "codemirror_mode": {
    "name": "ipython",
    "version": 3
   },
   "file_extension": ".py",
   "mimetype": "text/x-python",
   "name": "python",
   "nbconvert_exporter": "python",
   "pygments_lexer": "ipython3",
   "version": "3.9.6"
  }
 },
 "nbformat": 4,
 "nbformat_minor": 5
}

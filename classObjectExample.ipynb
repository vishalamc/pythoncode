{
 "cells": [
  {
   "cell_type": "code",
   "execution_count": 14,
   "id": "a8318ff3",
   "metadata": {},
   "outputs": [
    {
     "name": "stdout",
     "output_type": "stream",
     "text": [
      "id 1234\n",
      "name vishal\n"
     ]
    }
   ],
   "source": [
    "class employee:\n",
    "    def __init__(self,id,name):\n",
    "        self.id=id\n",
    "        self.name=name\n",
    "    def getDetails(self):\n",
    "        print(\"id\",self.id)\n",
    "        print(\"name\",self.name)\n",
    "emp=employee(1234,\"vishal\")\n",
    "emp.getDetails()\n",
    "    "
   ]
  },
  {
   "cell_type": "code",
   "execution_count": 5,
   "id": "4d173e89",
   "metadata": {},
   "outputs": [
    {
     "name": "stdout",
     "output_type": "stream",
     "text": [
      "department:  SCA\n",
      "Domain:  Programming\n",
      "Facculty:  kumar\n"
     ]
    }
   ],
   "source": [
    "class dept:\n",
    "    _dname=\"SCA\"\n",
    "    _domain=\"Programming\"\n",
    "class faculty(dept):\n",
    "    fname=\"kumar\"\n",
    "    def getdata(self):\n",
    "        print(\"department: \",self._dname)\n",
    "        print(\"Domain: \",self._domain)\n",
    "        print(\"Facculty: \",self.fname)\n",
    "fobj=faculty()\n",
    "fobj.getdata()"
   ]
  },
  {
   "cell_type": "code",
   "execution_count": 6,
   "id": "c496a419",
   "metadata": {},
   "outputs": [
    {
     "name": "stdout",
     "output_type": "stream",
     "text": [
      "1650.0\n"
     ]
    }
   ],
   "source": [
    "class bank:\n",
    "    _roi=10\n",
    "class sbi(bank):\n",
    "    sbiTotal=0\n",
    "    sbiBalance=1500\n",
    "    def getBal(self):\n",
    "        \n",
    "        self.sbiTotal=self.sbiBalance+(self.sbiBalance*self._roi/100)\n",
    "        return self.sbiTotal\n",
    "s1=sbi()\n",
    "amt=s1.getBal()\n",
    "print(amt)\n",
    "    "
   ]
  },
  {
   "cell_type": "code",
   "execution_count": 3,
   "id": "a765d5a0",
   "metadata": {},
   "outputs": [
    {
     "name": "stdout",
     "output_type": "stream",
     "text": [
      "AA\n",
      "BB\n"
     ]
    }
   ],
   "source": [
    "class A:\n",
    "    def __init__(self):\n",
    "        print(\"AA\")\n",
    "class B(A):\n",
    "    def __init__(self):\n",
    "        super().__init__()\n",
    "        print(\"BB\")\n",
    "b=B()\n",
    "\n",
    "    "
   ]
  },
  {
   "cell_type": "code",
   "execution_count": null,
   "id": "4ee936fc",
   "metadata": {},
   "outputs": [],
   "source": []
  }
 ],
 "metadata": {
  "kernelspec": {
   "display_name": "Python 3 (ipykernel)",
   "language": "python",
   "name": "python3"
  },
  "language_info": {
   "codemirror_mode": {
    "name": "ipython",
    "version": 3
   },
   "file_extension": ".py",
   "mimetype": "text/x-python",
   "name": "python",
   "nbconvert_exporter": "python",
   "pygments_lexer": "ipython3",
   "version": "3.9.6"
  }
 },
 "nbformat": 4,
 "nbformat_minor": 5
}

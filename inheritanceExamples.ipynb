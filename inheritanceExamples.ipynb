{
 "cells": [
  {
   "cell_type": "code",
   "execution_count": 1,
   "id": "92eaf960",
   "metadata": {},
   "outputs": [
    {
     "name": "stdout",
     "output_type": "stream",
     "text": [
      "Faculty ID:  14000\n",
      "Faculty Name:  kumar\n",
      "Department name:  SCA\n",
      "Domain Name:  Programming\n"
     ]
    }
   ],
   "source": [
    "class Department:\n",
    "    DName=\"SCA\"\n",
    "    domain=\"Programming\"\n",
    "class Faculty(Department):\n",
    "    FName=\"kumar\"\n",
    "    FId=14000\n",
    "    def getDetails(self):\n",
    "        print(\"Faculty ID: \",self.FId)\n",
    "        print(\"Faculty Name: \",self.FName)\n",
    "        print(\"Department name: \",self.DName)\n",
    "        print(\"Domain Name: \",self.domain)\n",
    "FObj=Faculty()\n",
    "FObj.getDetails()\n",
    "    "
   ]
  },
  {
   "cell_type": "code",
   "execution_count": 3,
   "id": "7d970f04",
   "metadata": {},
   "outputs": [
    {
     "name": "stdout",
     "output_type": "stream",
     "text": [
      "University:  LPU\n",
      "Faculty ID:  14000\n",
      "Faculty Name:  kumar\n",
      "Department name:  SCA\n",
      "Domain Name:  Programming\n"
     ]
    }
   ],
   "source": [
    "class University:\n",
    "    UName=\"LPU\"\n",
    "class Department(University):\n",
    "    DName=\"SCA\"\n",
    "    domain=\"Programming\"\n",
    "class Faculty(Department):\n",
    "    FName=\"kumar\"\n",
    "    FId=14000\n",
    "    def getDetails(self):\n",
    "        print(\"University: \",self.UName)\n",
    "        print(\"Faculty ID: \",self.FId)\n",
    "        print(\"Faculty Name: \",self.FName)\n",
    "        print(\"Department name: \",self.DName)\n",
    "        print(\"Domain Name: \",self.domain)\n",
    "Fobj=Faculty()\n",
    "Fobj.getDetails();"
   ]
  },
  {
   "cell_type": "code",
   "execution_count": 2,
   "id": "2ef3ef90",
   "metadata": {},
   "outputs": [
    {
     "name": "stdout",
     "output_type": "stream",
     "text": [
      "Total Amount is:  15050.0\n"
     ]
    }
   ],
   "source": [
    "# Program for Bankig Application\n",
    "class RBI:\n",
    "    rate=7.5\n",
    "class SBI(RBI):\n",
    "    balSBI=5000\n",
    "    def getSBI(self):\n",
    "        self.totalAmountSBI=self.balSBI+(self.balSBI*self.rate/100)\n",
    "        return self.totalAmountSBI\n",
    "class PNB(RBI):\n",
    "    balPNB=7000\n",
    "    def getPNB(self):\n",
    "        self.totalAmountPNB=self.balPNB+(self.balPNB*self.rate/100)\n",
    "        return self.totalAmountPNB\n",
    "\n",
    "class OBC(RBI):\n",
    "    balOBC=2000\n",
    "    \n",
    "    def getOBC(self):\n",
    "        self.totalAmountOBC=self.balOBC+(self.balOBC*self.rate/100)\n",
    "        return self.totalAmountOBC\n",
    "S1=SBI()\n",
    "P1=PNB()\n",
    "O1=OBC()\n",
    "totalAmount=S1.getSBI()+P1.getPNB()+O1.getOBC()\n",
    "print(\"Total Amount is: \",totalAmount)\n",
    "    "
   ]
  },
  {
   "cell_type": "code",
   "execution_count": 16,
   "id": "c7410cd9",
   "metadata": {},
   "outputs": [
    {
     "ename": "AttributeError",
     "evalue": "'result' object has no attribute '_pcode'",
     "output_type": "error",
     "traceback": [
      "\u001b[1;31m---------------------------------------------------------------------------\u001b[0m",
      "\u001b[1;31mAttributeError\u001b[0m                            Traceback (most recent call last)",
      "\u001b[1;32m~\\AppData\\Local\\Temp/ipykernel_6992/464630611.py\u001b[0m in \u001b[0;36m<module>\u001b[1;34m\u001b[0m\n\u001b[0;32m     28\u001b[0m \u001b[1;33m\u001b[0m\u001b[0m\n\u001b[0;32m     29\u001b[0m \u001b[0mr1\u001b[0m\u001b[1;33m=\u001b[0m\u001b[0mresult\u001b[0m\u001b[1;33m(\u001b[0m\u001b[1;33m)\u001b[0m\u001b[1;33m\u001b[0m\u001b[1;33m\u001b[0m\u001b[0m\n\u001b[1;32m---> 30\u001b[1;33m \u001b[0mr1\u001b[0m\u001b[1;33m.\u001b[0m\u001b[0mgetProject\u001b[0m\u001b[1;33m(\u001b[0m\u001b[1;33m)\u001b[0m\u001b[1;33m\u001b[0m\u001b[1;33m\u001b[0m\u001b[0m\n\u001b[0m\u001b[0;32m     31\u001b[0m \u001b[0mr1\u001b[0m\u001b[1;33m.\u001b[0m\u001b[0mgetResult\u001b[0m\u001b[1;33m(\u001b[0m\u001b[1;33m)\u001b[0m\u001b[1;33m\u001b[0m\u001b[1;33m\u001b[0m\u001b[0m\n\u001b[0;32m     32\u001b[0m \u001b[1;33m\u001b[0m\u001b[0m\n",
      "\u001b[1;32m~\\AppData\\Local\\Temp/ipykernel_6992/464630611.py\u001b[0m in \u001b[0;36mgetProject\u001b[1;34m(self)\u001b[0m\n\u001b[0;32m     17\u001b[0m     \u001b[0m_pCode\u001b[0m\u001b[1;33m=\u001b[0m\u001b[1;34m\"CAP497\"\u001b[0m\u001b[1;33m\u001b[0m\u001b[1;33m\u001b[0m\u001b[0m\n\u001b[0;32m     18\u001b[0m     \u001b[1;32mdef\u001b[0m \u001b[0mgetProject\u001b[0m\u001b[1;33m(\u001b[0m\u001b[0mself\u001b[0m\u001b[1;33m)\u001b[0m\u001b[1;33m:\u001b[0m\u001b[1;33m\u001b[0m\u001b[1;33m\u001b[0m\u001b[0m\n\u001b[1;32m---> 19\u001b[1;33m         \u001b[0mprint\u001b[0m\u001b[1;33m(\u001b[0m\u001b[1;34m\"Project Code: \"\u001b[0m\u001b[1;33m,\u001b[0m\u001b[0mself\u001b[0m\u001b[1;33m.\u001b[0m\u001b[0m_pcode\u001b[0m\u001b[1;33m)\u001b[0m\u001b[1;33m\u001b[0m\u001b[1;33m\u001b[0m\u001b[0m\n\u001b[0m\u001b[0;32m     20\u001b[0m \u001b[1;32mclass\u001b[0m \u001b[0mresult\u001b[0m\u001b[1;33m(\u001b[0m\u001b[0mexam\u001b[0m\u001b[1;33m,\u001b[0m\u001b[0mproject\u001b[0m\u001b[1;33m)\u001b[0m\u001b[1;33m:\u001b[0m\u001b[1;33m\u001b[0m\u001b[1;33m\u001b[0m\u001b[0m\n\u001b[0;32m     21\u001b[0m     \u001b[1;32mdef\u001b[0m \u001b[0mgetResult\u001b[0m\u001b[1;33m(\u001b[0m\u001b[0mself\u001b[0m\u001b[1;33m)\u001b[0m\u001b[1;33m:\u001b[0m\u001b[1;33m\u001b[0m\u001b[1;33m\u001b[0m\u001b[0m\n",
      "\u001b[1;31mAttributeError\u001b[0m: 'result' object has no attribute '_pcode'"
     ]
    }
   ],
   "source": [
    "# Example of Hybrid Inheritance\n",
    "class student:\n",
    "    def __init__(self):\n",
    "        self._regno=1234  \n",
    "        self._sname=\"kumar\"\n",
    "        \n",
    "        \n",
    "        \n",
    "    def getStudent(self):\n",
    "        print(\"Student Name: \",self._sname)\n",
    "        print(\"Reg No.: \",self._regno)\n",
    "class exam(student):\n",
    "    _eMarks=45\n",
    "    _eName=\"ETE\"\n",
    "class project:\n",
    "    _pMarks=55\n",
    "    _pCode=\"CAP497\"\n",
    "    \n",
    "class result(exam,project):\n",
    "    def getResult(self):\n",
    "        self.totalMarks=self._eMarks+self._pMarks\n",
    "        print(self.totalMarks)\n",
    "        if(self.totalMarks>=100):\n",
    "            print(\"PASS\")\n",
    "        else:\n",
    "            print(\"FAIL\")\n",
    "    \n",
    "r1=result()\n",
    "r1.getProject()\n",
    "r1.getResult()\n",
    "\n",
    "\n",
    "    "
   ]
  },
  {
   "cell_type": "code",
   "execution_count": 3,
   "id": "a4cd2ff2",
   "metadata": {},
   "outputs": [
    {
     "name": "stdout",
     "output_type": "stream",
     "text": [
      "Student Name:  Manpreet Singh\n",
      "Student Reg.No.:  11201123\n",
      "Fail\n"
     ]
    }
   ],
   "source": [
    "class Student:\n",
    "    def __init__(self):\n",
    "        self._studentName=\"Manpreet Singh\"\n",
    "        self._regno=11201123\n",
    "        self._marks1=0\n",
    "        self._marks2=0\n",
    "        self._marks3=0\n",
    "        self._marks4=0\n",
    "        self._marks5=0\n",
    "        self._Total=0\n",
    "    def getStudentDetails(self):\n",
    "        print(\"Student Name: \",self._studentName)\n",
    "        print(\"Student Reg.No.: \",self._regno)\n",
    "    def setMarks(self,m1,m2,m3,m4,m5):\n",
    "        self._marks1=m1\n",
    "        self._marks2=m2\n",
    "        self._marks3=m3\n",
    "        self._marks4=m4\n",
    "        self._marks5=m5\n",
    "        self._Total=self._marks1+self._marks2+self._marks3+self._marks4+self._marks5\n",
    "        return self._Total\n",
    "class Result(Student):\n",
    "    def __init__(self):\n",
    "        self.PassingMarks=200\n",
    "    def checkResult(self):\n",
    "        total=self.setMarks(25,30,40,35,40)\n",
    "        if total>=200:\n",
    "            print(\"pass\")\n",
    "        else:\n",
    "            print(\"Fail\")\n",
    "\n",
    "s1=Student()\n",
    "s1.getStudentDetails()\n",
    "r1=Result()\n",
    "r1.checkResult()"
   ]
  },
  {
   "cell_type": "code",
   "execution_count": 23,
   "id": "d149a678",
   "metadata": {},
   "outputs": [
    {
     "name": "stdout",
     "output_type": "stream",
     "text": [
      "PB0848\n",
      "HR0249\n",
      "JK0530\n"
     ]
    }
   ],
   "source": [
    "#generate Vehicle Reg.Number\n",
    "import random\n",
    "class Transport:\n",
    "    def vehicleRegistration(self):\n",
    "        pass\n",
    "class PunjabTransport(Transport):\n",
    "    def vehicleRegistration(self):\n",
    "        no=random.randrange(20, 50)\n",
    "        print(\"PB08{}\".format(no))\n",
    "class HaryanaTransport(Transport):\n",
    "    def vehicleRegistration(self):\n",
    "        no=random.randrange(20, 50)\n",
    "        print(\"HR02{}\".format(no))\n",
    "class JandKTransport(Transport):\n",
    "    def vehicleRegistration(self):\n",
    "        no=random.randrange(20, 50)\n",
    "        print(\"JK05{}\".format(no))\n",
    "P1=PunjabTransport()\n",
    "P1.vehicleRegistration()\n",
    "H1=HaryanaTransport()\n",
    "H1.vehicleRegistration()\n",
    "B1=JandKTransport()\n",
    "B1.vehicleRegistration()\n"
   ]
  },
  {
   "cell_type": "code",
   "execution_count": 24,
   "id": "5de6568a",
   "metadata": {},
   "outputs": [
    {
     "ename": "NameError",
     "evalue": "name 'getAmountMovie1' is not defined",
     "output_type": "error",
     "traceback": [
      "\u001b[1;31m---------------------------------------------------------------------------\u001b[0m",
      "\u001b[1;31mNameError\u001b[0m                                 Traceback (most recent call last)",
      "\u001b[1;32m~\\AppData\\Local\\Temp/ipykernel_7188/4140862892.py\u001b[0m in \u001b[0;36m<module>\u001b[1;34m\u001b[0m\n\u001b[0;32m     32\u001b[0m \u001b[0mmm3\u001b[0m\u001b[1;33m=\u001b[0m\u001b[0mmovie3\u001b[0m\u001b[1;33m(\u001b[0m\u001b[1;33m)\u001b[0m\u001b[1;33m\u001b[0m\u001b[1;33m\u001b[0m\u001b[0m\n\u001b[0;32m     33\u001b[0m \u001b[0mactorobj\u001b[0m\u001b[1;33m=\u001b[0m\u001b[0mactor\u001b[0m\u001b[1;33m(\u001b[0m\u001b[1;33m)\u001b[0m\u001b[1;33m\u001b[0m\u001b[1;33m\u001b[0m\u001b[0m\n\u001b[1;32m---> 34\u001b[1;33m \u001b[0mactorobj\u001b[0m\u001b[1;33m.\u001b[0m\u001b[0mfindbluckbuster\u001b[0m\u001b[1;33m(\u001b[0m\u001b[1;33m)\u001b[0m\u001b[1;33m\u001b[0m\u001b[1;33m\u001b[0m\u001b[0m\n\u001b[0m\u001b[0;32m     35\u001b[0m \u001b[1;33m\u001b[0m\u001b[0m\n\u001b[0;32m     36\u001b[0m \u001b[1;33m\u001b[0m\u001b[0m\n",
      "\u001b[1;32m~\\AppData\\Local\\Temp/ipykernel_7188/4140862892.py\u001b[0m in \u001b[0;36mfindbluckbuster\u001b[1;34m(self)\u001b[0m\n\u001b[0;32m     19\u001b[0m \u001b[1;32mclass\u001b[0m \u001b[0mactor\u001b[0m\u001b[1;33m(\u001b[0m\u001b[0mmovie1\u001b[0m\u001b[1;33m,\u001b[0m\u001b[0mmovie2\u001b[0m\u001b[1;33m,\u001b[0m\u001b[0mmovie3\u001b[0m\u001b[1;33m)\u001b[0m\u001b[1;33m:\u001b[0m\u001b[1;33m\u001b[0m\u001b[1;33m\u001b[0m\u001b[0m\n\u001b[0;32m     20\u001b[0m     \u001b[1;32mdef\u001b[0m \u001b[0mfindbluckbuster\u001b[0m\u001b[1;33m(\u001b[0m\u001b[0mself\u001b[0m\u001b[1;33m)\u001b[0m\u001b[1;33m:\u001b[0m\u001b[1;33m\u001b[0m\u001b[1;33m\u001b[0m\u001b[0m\n\u001b[1;32m---> 21\u001b[1;33m         \u001b[0mself\u001b[0m\u001b[1;33m.\u001b[0m\u001b[0mm1\u001b[0m\u001b[1;33m=\u001b[0m\u001b[0mgetAmountMovie1\u001b[0m\u001b[1;33m(\u001b[0m\u001b[1;36m500\u001b[0m\u001b[1;33m)\u001b[0m\u001b[1;33m\u001b[0m\u001b[1;33m\u001b[0m\u001b[0m\n\u001b[0m\u001b[0;32m     22\u001b[0m         \u001b[0mself\u001b[0m\u001b[1;33m.\u001b[0m\u001b[0mm2\u001b[0m\u001b[1;33m=\u001b[0m\u001b[0mgetAmountMovie2\u001b[0m\u001b[1;33m(\u001b[0m\u001b[1;36m900\u001b[0m\u001b[1;33m)\u001b[0m\u001b[1;33m\u001b[0m\u001b[1;33m\u001b[0m\u001b[0m\n\u001b[0;32m     23\u001b[0m         \u001b[0mself\u001b[0m\u001b[1;33m.\u001b[0m\u001b[0mm3\u001b[0m\u001b[1;33m=\u001b[0m\u001b[0mgetAmountMovie3\u001b[0m\u001b[1;33m(\u001b[0m\u001b[1;36m800\u001b[0m\u001b[1;33m)\u001b[0m\u001b[1;33m\u001b[0m\u001b[1;33m\u001b[0m\u001b[0m\n",
      "\u001b[1;31mNameError\u001b[0m: name 'getAmountMovie1' is not defined"
     ]
    }
   ],
   "source": [
    "# find out bluckbuster movie\n",
    "class movie1:\n",
    "    def __initi__(self,a):\n",
    "        self.amount1=0\n",
    "    def getMovie1(self):\n",
    "        print(\"Movie1\")\n",
    "class movie2:\n",
    "    def __initi__(self):\n",
    "        self.amount2=0\n",
    "    def getAmountMovie2(self,b):\n",
    "        self.amount2=b\n",
    "        return self.amount2\n",
    "class movie3:\n",
    "    def __initi__(self):\n",
    "        self.amount3=0\n",
    "    def getAmountMovie3(self,c):\n",
    "        self.amount3=c\n",
    "        return self.amount3\n",
    "class actor(movie1,movie2,movie3):\n",
    "    def findbluckbuster(self):\n",
    "        self.m1=getAmountMovie1(500)\n",
    "        self.m2=getAmountMovie2(900)\n",
    "        self.m3=getAmountMovie3(800)\n",
    "        if (self.m1>self.m2 and self.m1>self.m3):\n",
    "            print(\"Movie1 is bluckbuster\")\n",
    "        if (self.m2>self.m1 and self.m2>self.m3):\n",
    "            print(\"Movie2 is bluckbuster\")\n",
    "        else:\n",
    "            print(\"Movie3 is bluckbuster\")\n",
    "mm1=movie1()\n",
    "mm2=movie2()\n",
    "mm3=movie3()\n",
    "actorobj=actor()\n",
    "actorobj.findbluckbuster()\n",
    "        \n",
    "        \n",
    "    \n"
   ]
  },
  {
   "cell_type": "code",
   "execution_count": 11,
   "id": "b2af45bb",
   "metadata": {},
   "outputs": [
    {
     "data": {
      "text/plain": [
       "15"
      ]
     },
     "execution_count": 11,
     "metadata": {},
     "output_type": "execute_result"
    }
   ],
   "source": [
    "import random\n",
    "random.randrange(10,100)"
   ]
  },
  {
   "cell_type": "code",
   "execution_count": null,
   "id": "79249796",
   "metadata": {},
   "outputs": [],
   "source": []
  },
  {
   "cell_type": "code",
   "execution_count": null,
   "id": "65443fc8",
   "metadata": {},
   "outputs": [],
   "source": []
  }
 ],
 "metadata": {
  "kernelspec": {
   "display_name": "Python 3 (ipykernel)",
   "language": "python",
   "name": "python3"
  },
  "language_info": {
   "codemirror_mode": {
    "name": "ipython",
    "version": 3
   },
   "file_extension": ".py",
   "mimetype": "text/x-python",
   "name": "python",
   "nbconvert_exporter": "python",
   "pygments_lexer": "ipython3",
   "version": "3.9.6"
  }
 },
 "nbformat": 4,
 "nbformat_minor": 5
}

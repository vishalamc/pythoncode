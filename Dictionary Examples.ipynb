{
 "cells": [
  {
   "cell_type": "code",
   "execution_count": 11,
   "id": "89db4399",
   "metadata": {},
   "outputs": [
    {
     "name": "stdout",
     "output_type": "stream",
     "text": [
      "Reg No. 11001 Grade:A+\n",
      "Reg No. 11002 Grade:A\n",
      "Reg No. 11003 Grade:B+\n",
      "hello\n"
     ]
    }
   ],
   "source": [
    "d1={11001:\"Manpreet\",11002:\"Mandeep\",11003:\"Manjeet\"}\n",
    "d2={11001:85,11002:75,11003:65}\n",
    "for reg in d2:\n",
    "    if d2[reg]>90 and d2[reg]<100:\n",
    "        print(\"Reg No.\",reg,\"Grade:O\")\n",
    "    if d2[reg]>80 and d2[reg]<90:\n",
    "        print(\"Reg No.\",reg,\"Grade:A+\")\n",
    "    if d2[reg]>70 and d2[reg]<80:\n",
    "        print(\"Reg No.\",reg,\"Grade:A\")\n",
    "    if d2[reg]>60 and d2[reg]<70:\n",
    "        print(\"Reg No.\",reg,\"Grade:B+\")\n",
    "    \n",
    "def disp():\n",
    "    print(\"hello\")\n",
    "disp()\n"
   ]
  },
  {
   "cell_type": "code",
   "execution_count": null,
   "id": "d73309b9",
   "metadata": {},
   "outputs": [],
   "source": []
  }
 ],
 "metadata": {
  "kernelspec": {
   "display_name": "Python 3 (ipykernel)",
   "language": "python",
   "name": "python3"
  },
  "language_info": {
   "codemirror_mode": {
    "name": "ipython",
    "version": 3
   },
   "file_extension": ".py",
   "mimetype": "text/x-python",
   "name": "python",
   "nbconvert_exporter": "python",
   "pygments_lexer": "ipython3",
   "version": "3.9.6"
  }
 },
 "nbformat": 4,
 "nbformat_minor": 5
}

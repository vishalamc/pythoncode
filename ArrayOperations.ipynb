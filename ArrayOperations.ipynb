{
 "cells": [
  {
   "cell_type": "code",
   "execution_count": 16,
   "id": "9e86ca90",
   "metadata": {},
   "outputs": [
    {
     "name": "stdout",
     "output_type": "stream",
     "text": [
      "binary representation of a: 0b110010\n",
      "binary representation of b: 0b1011010\n",
      "Bitwise-and of a and b:  122\n",
      "-6\n",
      "Left shift of 10 by two positions:\n",
      "40\n"
     ]
    }
   ],
   "source": [
    "    import numpy as np  \n",
    "      \n",
    "    a = 50  \n",
    "    b = 90  \n",
    "      \n",
    "    print(\"binary representation of a:\",bin(a))  \n",
    "    print(\"binary representation of b:\",bin(b))  \n",
    "    print(\"Bitwise-and of a and b: \",np.bitwise_or(a,b))  \n",
    "    print(np.invert(5))\n",
    "    print ('Left shift of 10 by two positions:') \n",
    "    print (np.left_shift(10,2))"
   ]
  },
  {
   "cell_type": "code",
   "execution_count": 2,
   "id": "6f56fae6",
   "metadata": {},
   "outputs": [
    {
     "name": "stdout",
     "output_type": "stream",
     "text": [
      "[11 22 33]\n",
      "(3,)\n",
      "(3,)\n",
      "[11 22 33]\n",
      "[ 9 18 27]\n",
      "[10 40 90]\n",
      "[10. 10. 10.]\n"
     ]
    }
   ],
   "source": [
    "import numpy as np\n",
    "a = np.array([10,20,30])\n",
    "b = np.array([1,2,3])\n",
    "print(a+b)\n",
    "print(a.shape)\n",
    "print(b.shape)\n",
    "print(np.add(a,b))\n",
    "print(np.subtract(a,b))\n",
    "print(np.multiply(a,b))\n",
    "print(np.divide(a,b))"
   ]
  },
  {
   "cell_type": "code",
   "execution_count": 5,
   "id": "761e5e29",
   "metadata": {},
   "outputs": [
    {
     "name": "stdout",
     "output_type": "stream",
     "text": [
      "10\n"
     ]
    }
   ],
   "source": [
    "import numpy as np \n",
    "\n",
    "\n",
    "print ( np.right_shift(40,2) )\n"
   ]
  },
  {
   "cell_type": "code",
   "execution_count": null,
   "id": "fc9f5c25",
   "metadata": {},
   "outputs": [],
   "source": []
  },
  {
   "cell_type": "code",
   "execution_count": null,
   "id": "ab4fd34a",
   "metadata": {},
   "outputs": [],
   "source": []
  }
 ],
 "metadata": {
  "kernelspec": {
   "display_name": "Python 3 (ipykernel)",
   "language": "python",
   "name": "python3"
  },
  "language_info": {
   "codemirror_mode": {
    "name": "ipython",
    "version": 3
   },
   "file_extension": ".py",
   "mimetype": "text/x-python",
   "name": "python",
   "nbconvert_exporter": "python",
   "pygments_lexer": "ipython3",
   "version": "3.9.6"
  }
 },
 "nbformat": 4,
 "nbformat_minor": 5
}
